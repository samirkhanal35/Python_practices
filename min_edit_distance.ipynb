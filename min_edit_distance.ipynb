{
 "cells": [
  {
   "cell_type": "code",
   "execution_count": 19,
   "id": "1dd1a2ab",
   "metadata": {},
   "outputs": [],
   "source": [
    "def min_edit_distance(s1, s2):\n",
    "    m = len(s1)\n",
    "    n = len(s2)\n",
    "\n",
    "    dp = [[0 for j in range(n+1)] for i in range(m+1)]\n",
    "    \n",
    "\n",
    "    for i in range(m+1):\n",
    "        for j in range(n+1):\n",
    "            if i == 0:\n",
    "                dp[i][j] = j\n",
    "            elif j == 0:\n",
    "                dp[i][j] = i\n",
    "            elif s1[i-1] == s2[j-1]:\n",
    "                dp[i][j] = dp[i-1][j-1]\n",
    "            else:\n",
    "                dp[i][j] = 1 + min(dp[i-1][j], dp[i][j-1], dp[i-1][j-1])\n",
    "    return dp[m][n]\n",
    "\n",
    "\n"
   ]
  },
  {
   "cell_type": "code",
   "execution_count": 20,
   "id": "60a66901",
   "metadata": {},
   "outputs": [],
   "source": [
    "def min_edit_distance2(s1, s2):\n",
    "    m = len(s1)\n",
    "    n = len(s2)\n",
    "    dp = [[0 for j in range(n+1)] for i in range(m+1)]\n",
    "    edits = []\n",
    "    \n",
    "    for i in range(m+1):\n",
    "        for j in range(n+1):\n",
    "            if i == 0:\n",
    "                dp[i][j] = j\n",
    "            elif j == 0:\n",
    "                dp[i][j] = i\n",
    "            elif s1[i-1] == s2[j-1]:\n",
    "                dp[i][j] = dp[i-1][j-1]\n",
    "            else:\n",
    "                dp[i][j] = 1 + min(dp[i-1][j], dp[i][j-1], dp[i-1][j-1])\n",
    "                \n",
    "    i, j = m, n\n",
    "    while i > 0 or j > 0:\n",
    "        if i > 0 and dp[i][j] == dp[i-1][j] + 1:\n",
    "            edits.append(('delete', s1[i-1]))\n",
    "            i -= 1\n",
    "        elif j > 0 and dp[i][j] == dp[i][j-1] + 1:\n",
    "            edits.append(('insert', s2[j-1]))\n",
    "            j -= 1\n",
    "        elif i > 0 and j > 0 and dp[i][j] == dp[i-1][j-1] + 1:\n",
    "            edits.append(('replace', s1[i-1], s2[j-1]))\n",
    "            i -= 1\n",
    "            j -= 1\n",
    "        else:\n",
    "            i -= 1\n",
    "            j -= 1\n",
    "    \n",
    "    return dp[m][n], list(reversed(edits))\n"
   ]
  },
  {
   "cell_type": "code",
   "execution_count": 23,
   "id": "0bc6057a",
   "metadata": {},
   "outputs": [
    {
     "data": {
      "text/plain": [
       "(3, [('replace', 'c', 'd'), ('replace', 'o', 'e'), ('delete', 'n')])"
      ]
     },
     "execution_count": 23,
     "metadata": {},
     "output_type": "execute_result"
    }
   ],
   "source": [
    "word1 = 'cons'\n",
    "word2 = 'des'\n",
    "min_edit_distance(word1, word2)\n",
    "min_edit_distance2(word1, word2)"
   ]
  },
  {
   "cell_type": "code",
   "execution_count": 22,
   "id": "bdb21447",
   "metadata": {},
   "outputs": [
    {
     "name": "stdout",
     "output_type": "stream",
     "text": [
      "Minimum edit distance between intention and execution is 5\n",
      "Edit steps:\n",
      "('replace', 'i', 'e')\n",
      "('replace', 'n', 'x')\n",
      "('delete', 't')\n",
      "('replace', 'n', 'c')\n",
      "('insert', 'u')\n"
     ]
    }
   ],
   "source": [
    "# Example usage\n",
    "s1 = \"intention\"\n",
    "s2 = \"execution\"\n",
    "distance, edits = min_edit_distance2(s1, s2)\n",
    "print(\"Minimum edit distance between\", s1, \"and\", s2, \"is\", distance)\n",
    "print(\"Edit steps:\")\n",
    "for step in edits:\n",
    "    print(step)"
   ]
  },
  {
   "cell_type": "code",
   "execution_count": null,
   "id": "e2eb0fab",
   "metadata": {},
   "outputs": [],
   "source": []
  }
 ],
 "metadata": {
  "kernelspec": {
   "display_name": "Python 3 (ipykernel)",
   "language": "python",
   "name": "python3"
  },
  "language_info": {
   "codemirror_mode": {
    "name": "ipython",
    "version": 3
   },
   "file_extension": ".py",
   "mimetype": "text/x-python",
   "name": "python",
   "nbconvert_exporter": "python",
   "pygments_lexer": "ipython3",
   "version": "3.9.12"
  }
 },
 "nbformat": 4,
 "nbformat_minor": 5
}
