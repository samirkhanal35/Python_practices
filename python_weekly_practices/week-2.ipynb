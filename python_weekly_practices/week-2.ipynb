{
 "cells": [
  {
   "cell_type": "markdown",
   "id": "79508b55",
   "metadata": {},
   "source": [
    "A. Write a Python program to check if a number is a perfect square"
   ]
  },
  {
   "cell_type": "code",
   "execution_count": 18,
   "id": "f3d5d343",
   "metadata": {},
   "outputs": [],
   "source": [
    "import math\n",
    "def check_perfect_square(num):\n",
    "    \"\"\"\n",
    "    num: passed number to check for perfect square\n",
    "    return: True or False\n",
    "    \"\"\"\n",
    "    root = math.sqrt(num)\n",
    "    if (root*10)%10 > 0:\n",
    "        root += 0.5\n",
    "    if num == int(root ** 2):\n",
    "        return True\n",
    "    else:\n",
    "        return False\n",
    "    "
   ]
  },
  {
   "cell_type": "code",
   "execution_count": 19,
   "id": "f1839a35",
   "metadata": {},
   "outputs": [
    {
     "data": {
      "text/plain": [
       "False"
      ]
     },
     "execution_count": 19,
     "metadata": {},
     "output_type": "execute_result"
    }
   ],
   "source": [
    "check_perfect_square(80)"
   ]
  },
  {
   "cell_type": "code",
   "execution_count": 20,
   "id": "faf2eef5",
   "metadata": {},
   "outputs": [
    {
     "data": {
      "text/plain": [
       "True"
      ]
     },
     "execution_count": 20,
     "metadata": {},
     "output_type": "execute_result"
    }
   ],
   "source": [
    "check_perfect_square(81)"
   ]
  },
  {
   "cell_type": "markdown",
   "id": "c79ba249",
   "metadata": {},
   "source": [
    "B. Write a Python program to find a missing number from a list. \n",
    "Input : [1,2,3,4,6,7,8]\n",
    "Output : 5"
   ]
  },
  {
   "cell_type": "code",
   "execution_count": 23,
   "id": "8490c8ce",
   "metadata": {},
   "outputs": [],
   "source": [
    "def missing_number(num):\n",
    "    \"\"\"\n",
    "    num: list of numbers\n",
    "    return: missing number\n",
    "    \"\"\"\n",
    "    first_number = num[0]\n",
    "    last_number = num[(len(num) -1)]\n",
    "    for i in range(first_number, last_number+1):\n",
    "        if i not in num:\n",
    "            return i"
   ]
  },
  {
   "cell_type": "code",
   "execution_count": 24,
   "id": "ef1a4b11",
   "metadata": {},
   "outputs": [
    {
     "data": {
      "text/plain": [
       "5"
      ]
     },
     "execution_count": 24,
     "metadata": {},
     "output_type": "execute_result"
    }
   ],
   "source": [
    "input_list = [1,2,3,4,6,7,8]\n",
    "missing_number(input_list)"
   ]
  },
  {
   "cell_type": "code",
   "execution_count": 25,
   "id": "dcc894c4",
   "metadata": {},
   "outputs": [
    {
     "data": {
      "text/plain": [
       "7"
      ]
     },
     "execution_count": 25,
     "metadata": {},
     "output_type": "execute_result"
    }
   ],
   "source": [
    "input_list = [1,2,3,4,5,6,8]\n",
    "missing_number(input_list)"
   ]
  },
  {
   "cell_type": "markdown",
   "id": "3f34bd7c",
   "metadata": {},
   "source": [
    "C. Write a Python program to find the single number in a list that doesn't occur twice.\n",
    "Input : [5, 3, 4, 3, 4]\n",
    "Output : 5"
   ]
  },
  {
   "cell_type": "code",
   "execution_count": 72,
   "id": "912c4e12",
   "metadata": {},
   "outputs": [],
   "source": [
    "def find_single_number(num):\n",
    "    \"\"\"\n",
    "    num: list of numbers\n",
    "    return: number, occuring only once\n",
    "    \"\"\"\n",
    "    single_number = 0\n",
    "    flag = False\n",
    "    for index, value in enumerate(num, 0):\n",
    "        if index==0 and (value not in num[(index+1):]):\n",
    "            single_number = value\n",
    "            flag = True\n",
    "            break\n",
    "        elif index==(len(num) -1) and (value not in num[:index]):\n",
    "            single_number = value\n",
    "            flag = True\n",
    "            break\n",
    "        elif index>0 and ((value not in num[:index]) and (value not in num[(index + 1):])):\n",
    "            single_number = value\n",
    "            flag = True\n",
    "            break\n",
    "    if flag == True:\n",
    "        return single_number\n",
    "    else:\n",
    "        return (\"no single number\")\n",
    "\n"
   ]
  },
  {
   "cell_type": "code",
   "execution_count": 2,
   "id": "4ecd9a94",
   "metadata": {},
   "outputs": [],
   "source": [
    "def checkDuplicateXOR(num_list):\n",
    "    unique = num_list[0]\n",
    "    for i in range(1, len(num_list)):\n",
    "        # XOR operator\n",
    "        '''\n",
    "            5 ^ 3 ^ 4 ^ 3 ^ 4\n",
    "            Since XOR is associative and commutative, above \n",
    "            expression can be written as\n",
    "            5 ^ (3 ^ 3) ^ (4 ^ 4)\n",
    "            5 ^ 0 ^ 0\n",
    "            5\n",
    "\n",
    "            5 ^ 3\n",
    "            101 ^ 011 => 110 => 6\n",
    "            6 ^ 4\n",
    "            110 ^ 100 => 010 => 2\n",
    "            2 ^ 3\n",
    "            010 ^ 011 => 001 => 1\n",
    "            1 ^ 4 \n",
    "            001 ^ 100 => 101 => 5\n",
    "\n",
    "        '''\n",
    "        unique ^= num_list[i]\n",
    "\n",
    "    return unique"
   ]
  },
  {
   "cell_type": "code",
   "execution_count": 73,
   "id": "1246ad28",
   "metadata": {},
   "outputs": [
    {
     "data": {
      "text/plain": [
       "5"
      ]
     },
     "execution_count": 73,
     "metadata": {},
     "output_type": "execute_result"
    }
   ],
   "source": [
    "input_num = [5, 3, 4, 3, 4] \n",
    "find_single_number(input_num)"
   ]
  },
  {
   "cell_type": "code",
   "execution_count": 74,
   "id": "54b0507d",
   "metadata": {},
   "outputs": [
    {
     "data": {
      "text/plain": [
       "4"
      ]
     },
     "execution_count": 74,
     "metadata": {},
     "output_type": "execute_result"
    }
   ],
   "source": [
    "input_num = [5, 3, 5, 3, 4] \n",
    "find_single_number(input_num)"
   ]
  },
  {
   "cell_type": "code",
   "execution_count": 75,
   "id": "c99a6704",
   "metadata": {},
   "outputs": [
    {
     "data": {
      "text/plain": [
       "3"
      ]
     },
     "execution_count": 75,
     "metadata": {},
     "output_type": "execute_result"
    }
   ],
   "source": [
    "input_num = [5, 4, 5, 3, 4] \n",
    "find_single_number(input_num)"
   ]
  }
 ],
 "metadata": {
  "kernelspec": {
   "display_name": "Python 3 (ipykernel)",
   "language": "python",
   "name": "python3"
  },
  "language_info": {
   "codemirror_mode": {
    "name": "ipython",
    "version": 3
   },
   "file_extension": ".py",
   "mimetype": "text/x-python",
   "name": "python",
   "nbconvert_exporter": "python",
   "pygments_lexer": "ipython3",
   "version": "3.9.12"
  }
 },
 "nbformat": 4,
 "nbformat_minor": 5
}
