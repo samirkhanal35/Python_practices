{
 "cells": [
  {
   "cell_type": "markdown",
   "id": "25912a6f",
   "metadata": {},
   "source": [
    "1-Write a Python program to find 4 numbers from an array such that the sum of 4 numbers equal to a given number.\n",
    "Input : [1, 0, -1, 0, -2, 2,10,11], 0.\n",
    "Output : [[-2, -1, 1, 2], [-2, 0, 0, 2], [-1, 0, 0, 1]]"
   ]
  },
  {
   "cell_type": "code",
   "execution_count": 10,
   "id": "cb1c6cf0",
   "metadata": {},
   "outputs": [],
   "source": [
    "from itertools import combinations"
   ]
  },
  {
   "cell_type": "code",
   "execution_count": 16,
   "id": "10fc5730",
   "metadata": {},
   "outputs": [],
   "source": [
    "def find_four_numbers(inp_list, num):\n",
    "    \"\"\"\n",
    "    inp_list: input list of numbers\n",
    "    num: length of combination \n",
    "    return: list of numbers with sum equal to a number in the inp_list\n",
    "    \"\"\"\n",
    "    cmb = list(combinations(inp_list, num))\n",
    "    cmb_list = []\n",
    "    for each_cmb in cmb:\n",
    "        if sum(each_cmb) == 0:\n",
    "            cmb_list.append(each_cmb)\n",
    "            \n",
    "    return cmb_list\n",
    "    "
   ]
  },
  {
   "cell_type": "code",
   "execution_count": 17,
   "id": "7ab1ba44",
   "metadata": {},
   "outputs": [
    {
     "name": "stdout",
     "output_type": "stream",
     "text": [
      "[(1, 0, -1, 0), (1, -1, -2, 2), (0, 0, -2, 2)]\n"
     ]
    }
   ],
   "source": [
    "inp =  [1, 0, -1, 0, -2, 2, 10, 11] \n",
    "\n",
    "print(find_four_numbers(inp, 4))"
   ]
  },
  {
   "cell_type": "markdown",
   "id": "a1847ffe",
   "metadata": {},
   "source": [
    "2-Write a Python program to find the single element appears once in a list where every element appears multiple times except for one. \n",
    "Input : [1, 1, 1, 2, 2, 2, 3]\n",
    "Output : 3"
   ]
  },
  {
   "cell_type": "code",
   "execution_count": 18,
   "id": "0d4e28a7",
   "metadata": {},
   "outputs": [],
   "source": [
    "def find_single_element(nums):\n",
    "    \"\"\"\n",
    "    nums: list of numbers\n",
    "    return: element which occurs once\n",
    "    \"\"\"\n",
    "    for each_num in nums:\n",
    "        if nums.count(each_num) == 1:\n",
    "            return each_num"
   ]
  },
  {
   "cell_type": "code",
   "execution_count": 19,
   "id": "bcd80b94",
   "metadata": {},
   "outputs": [
    {
     "name": "stdout",
     "output_type": "stream",
     "text": [
      "3\n"
     ]
    }
   ],
   "source": [
    "inp_list =  [1, 1, 1, 2, 2, 2, 3]\n",
    "\n",
    "print(find_single_element(inp_list))"
   ]
  },
  {
   "cell_type": "markdown",
   "id": "54e6ada2",
   "metadata": {},
   "source": [
    "3-Write a Python program to add the digits of a positive integer repeatedly until the result has a single digit. \n",
    "Input : 48\n",
    "Output : 3\n",
    "For example given number is 59, the result will be 5.\n",
    "Step 1: 5 + 9 = 14\n",
    "Step 1: 1 + 4 = 5"
   ]
  },
  {
   "cell_type": "code",
   "execution_count": 5,
   "id": "2c5c2402",
   "metadata": {},
   "outputs": [],
   "source": [
    "def sng_num(num):\n",
    "    num = str(num)\n",
    "    sum = 0\n",
    "    for i in num:\n",
    "        sum += int(i)\n",
    "    if sum>9:\n",
    "        sng_num(sum)\n",
    "    else: \n",
    "        print(sum)"
   ]
  },
  {
   "cell_type": "code",
   "execution_count": 8,
   "id": "8acb86d9",
   "metadata": {},
   "outputs": [
    {
     "name": "stdout",
     "output_type": "stream",
     "text": [
      "7\n"
     ]
    }
   ],
   "source": [
    "sng_num(259)"
   ]
  }
 ],
 "metadata": {
  "kernelspec": {
   "display_name": "Python 3 (ipykernel)",
   "language": "python",
   "name": "python3"
  },
  "language_info": {
   "codemirror_mode": {
    "name": "ipython",
    "version": 3
   },
   "file_extension": ".py",
   "mimetype": "text/x-python",
   "name": "python",
   "nbconvert_exporter": "python",
   "pygments_lexer": "ipython3",
   "version": "3.9.12"
  }
 },
 "nbformat": 4,
 "nbformat_minor": 5
}
