{
 "cells": [
  {
   "cell_type": "markdown",
   "id": "300da3fb",
   "metadata": {},
   "source": [
    "A. Write a Python program to check if a number is a perfect square"
   ]
  },
  {
   "cell_type": "code",
   "execution_count": 18,
   "id": "ddf6db86",
   "metadata": {},
   "outputs": [],
   "source": [
    "import math\n",
    "def check_perfect_square(num):\n",
    "    \"\"\"\n",
    "    num: passed number to check for perfect square\n",
    "    return: True or False\n",
    "    \"\"\"\n",
    "    root = math.sqrt(num)\n",
    "    if (root*10)%10 > 0:\n",
    "        root += 0.5\n",
    "    if num == int(root ** 2):\n",
    "        return True\n",
    "    else:\n",
    "        return False\n",
    "    "
   ]
  },
  {
   "cell_type": "code",
   "execution_count": 19,
   "id": "2cc937ed",
   "metadata": {},
   "outputs": [
    {
     "data": {
      "text/plain": [
       "False"
      ]
     },
     "execution_count": 19,
     "metadata": {},
     "output_type": "execute_result"
    }
   ],
   "source": [
    "check_perfect_square(80)"
   ]
  },
  {
   "cell_type": "code",
   "execution_count": 20,
   "id": "9e830144",
   "metadata": {},
   "outputs": [
    {
     "data": {
      "text/plain": [
       "True"
      ]
     },
     "execution_count": 20,
     "metadata": {},
     "output_type": "execute_result"
    }
   ],
   "source": [
    "check_perfect_square(81)"
   ]
  },
  {
   "cell_type": "markdown",
   "id": "cfcad943",
   "metadata": {},
   "source": [
    "B. Write a Python program to find a missing number from a list. \n",
    "Input : [1,2,3,4,6,7,8]\n",
    "Output : 5"
   ]
  },
  {
   "cell_type": "code",
   "execution_count": 23,
   "id": "a726f81a",
   "metadata": {},
   "outputs": [],
   "source": [
    "def missing_number(num):\n",
    "    \"\"\"\n",
    "    num: list of numbers\n",
    "    return: missing number\n",
    "    \"\"\"\n",
    "    first_number = num[0]\n",
    "    last_number = num[(len(num) -1)]\n",
    "    for i in range(first_number, last_number+1):\n",
    "        if i not in num:\n",
    "            return i"
   ]
  },
  {
   "cell_type": "code",
   "execution_count": 24,
   "id": "22564abe",
   "metadata": {},
   "outputs": [
    {
     "data": {
      "text/plain": [
       "5"
      ]
     },
     "execution_count": 24,
     "metadata": {},
     "output_type": "execute_result"
    }
   ],
   "source": [
    "input_list = [1,2,3,4,6,7,8]\n",
    "missing_number(input_list)"
   ]
  },
  {
   "cell_type": "code",
   "execution_count": 25,
   "id": "6e91764c",
   "metadata": {},
   "outputs": [
    {
     "data": {
      "text/plain": [
       "7"
      ]
     },
     "execution_count": 25,
     "metadata": {},
     "output_type": "execute_result"
    }
   ],
   "source": [
    "input_list = [1,2,3,4,5,6,8]\n",
    "missing_number(input_list)"
   ]
  },
  {
   "cell_type": "markdown",
   "id": "f32b54cc",
   "metadata": {},
   "source": [
    "C. Write a Python program to find the single number in a list that doesn't occur twice.\n",
    "Input : [5, 3, 4, 3, 4]\n",
    "Output : 5"
   ]
  },
  {
   "cell_type": "code",
   "execution_count": 72,
   "id": "3f40dae6",
   "metadata": {},
   "outputs": [],
   "source": [
    "def find_single_number(num):\n",
    "    \"\"\"\n",
    "    num: list of numbers\n",
    "    return: number, occuring only once\n",
    "    \"\"\"\n",
    "    single_number = 0\n",
    "    flag = False\n",
    "    for index, value in enumerate(num, 0):\n",
    "        if index==0 and (value not in num[(index+1):]):\n",
    "            single_number = value\n",
    "            flag = True\n",
    "            break\n",
    "        elif index==(len(num) -1) and (value not in num[:index]):\n",
    "            single_number = value\n",
    "            flag = True\n",
    "            break\n",
    "        elif index>0 and ((value not in num[:index]) and (value not in num[(index + 1):])):\n",
    "            single_number = value\n",
    "            flag = True\n",
    "            break\n",
    "    if flag == True:\n",
    "        return single_number\n",
    "    else:\n",
    "        return (\"no single number\")\n",
    "\n"
   ]
  },
  {
   "cell_type": "code",
   "execution_count": 73,
   "id": "290c1f94",
   "metadata": {},
   "outputs": [
    {
     "data": {
      "text/plain": [
       "5"
      ]
     },
     "execution_count": 73,
     "metadata": {},
     "output_type": "execute_result"
    }
   ],
   "source": [
    "input_num = [5, 3, 4, 3, 4] \n",
    "find_single_number(input_num)"
   ]
  },
  {
   "cell_type": "code",
   "execution_count": 74,
   "id": "98414b11",
   "metadata": {},
   "outputs": [
    {
     "data": {
      "text/plain": [
       "4"
      ]
     },
     "execution_count": 74,
     "metadata": {},
     "output_type": "execute_result"
    }
   ],
   "source": [
    "input_num = [5, 3, 5, 3, 4] \n",
    "find_single_number(input_num)"
   ]
  },
  {
   "cell_type": "code",
   "execution_count": 75,
   "id": "0931fa61",
   "metadata": {},
   "outputs": [
    {
     "data": {
      "text/plain": [
       "3"
      ]
     },
     "execution_count": 75,
     "metadata": {},
     "output_type": "execute_result"
    }
   ],
   "source": [
    "input_num = [5, 4, 5, 3, 4] \n",
    "find_single_number(input_num)"
   ]
  }
 ],
 "metadata": {
  "kernelspec": {
   "display_name": "Python 3 (ipykernel)",
   "language": "python",
   "name": "python3"
  },
  "language_info": {
   "codemirror_mode": {
    "name": "ipython",
    "version": 3
   },
   "file_extension": ".py",
   "mimetype": "text/x-python",
   "name": "python",
   "nbconvert_exporter": "python",
   "pygments_lexer": "ipython3",
   "version": "3.9.12"
  }
 },
 "nbformat": 4,
 "nbformat_minor": 5
}
