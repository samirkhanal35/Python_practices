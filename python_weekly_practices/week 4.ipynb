{
 "cells": [
  {
   "cell_type": "markdown",
   "id": "3d2ea59c",
   "metadata": {},
   "source": [
    "# 1. Write a Python program to find the single element in a list where every element appears multiple times except for one.\n",
    "Input : [5, 3, 4, 3, 5, 5, 3],\n",
    "Output : 4"
   ]
  },
  {
   "cell_type": "code",
   "execution_count": 20,
   "id": "3a12cb0c",
   "metadata": {},
   "outputs": [],
   "source": [
    "def single_element(num):\n",
    "    elements = {}\n",
    "    for i in num:\n",
    "        if i in elements:\n",
    "            elements[i] += 1\n",
    "        else:\n",
    "            elements[i] = 1\n",
    "    print(\"all elements:\", elements)\n",
    "    for element, count in elements.items():\n",
    "        if count == 1:\n",
    "            return element\n",
    "    print(\"No Single Element !!\")\n",
    "              \n",
    "        "
   ]
  },
  {
   "cell_type": "code",
   "execution_count": 21,
   "id": "e7d8d1f5",
   "metadata": {},
   "outputs": [],
   "source": [
    "input = [5, 3, 4, 3, 5, 5, 3]"
   ]
  },
  {
   "cell_type": "code",
   "execution_count": 22,
   "id": "8c1aefb7",
   "metadata": {},
   "outputs": [
    {
     "name": "stdout",
     "output_type": "stream",
     "text": [
      "all elements: {5: 3, 3: 3, 4: 1}\n"
     ]
    },
    {
     "data": {
      "text/plain": [
       "4"
      ]
     },
     "execution_count": 22,
     "metadata": {},
     "output_type": "execute_result"
    }
   ],
   "source": [
    "single_element(input)"
   ]
  },
  {
   "cell_type": "code",
   "execution_count": 23,
   "id": "6506a59f",
   "metadata": {},
   "outputs": [],
   "source": [
    "input1 = [5, 4, 4, 3, 5, 5, 3]"
   ]
  },
  {
   "cell_type": "code",
   "execution_count": 25,
   "id": "aa7f9f20",
   "metadata": {},
   "outputs": [
    {
     "name": "stdout",
     "output_type": "stream",
     "text": [
      "all elements: {5: 3, 4: 2, 3: 2}\n",
      "No Single Element !!\n"
     ]
    }
   ],
   "source": [
    "single_element(input1)"
   ]
  },
  {
   "cell_type": "code",
   "execution_count": 26,
   "id": "ede5e1b7",
   "metadata": {},
   "outputs": [],
   "source": [
    "input2 = [5, 4, 4, 4, 5, 5, 3]"
   ]
  },
  {
   "cell_type": "code",
   "execution_count": 27,
   "id": "6d7d5f18",
   "metadata": {},
   "outputs": [
    {
     "name": "stdout",
     "output_type": "stream",
     "text": [
      "all elements: {5: 3, 4: 3, 3: 1}\n"
     ]
    },
    {
     "data": {
      "text/plain": [
       "3"
      ]
     },
     "execution_count": 27,
     "metadata": {},
     "output_type": "execute_result"
    }
   ],
   "source": [
    "single_element(input2)"
   ]
  },
  {
   "cell_type": "markdown",
   "id": "30972e74",
   "metadata": {},
   "source": [
    "# 2. Write a Python program to compute and return the square root of a given 'integer'. \n",
    "Input : 16\n",
    "Output : 4\n",
    "Note : The returned value will be an 'integer', do not use square root functions from python."
   ]
  },
  {
   "cell_type": "code",
   "execution_count": 34,
   "id": "fdf1d1cb",
   "metadata": {},
   "outputs": [],
   "source": [
    "# Repeated Subtraction Method\n",
    "# Repeatedly subtracting consecutive odd numbers from it\n",
    "# Only gives the square root of perfect squares(integer)\n",
    "def find_square_root(num):\n",
    "    count = 0\n",
    "    start_num = 1\n",
    "    while num > 0:\n",
    "        num -= start_num\n",
    "        start_num += 2 # next odd number\n",
    "        count += 1\n",
    "    return count\n",
    "        "
   ]
  },
  {
   "cell_type": "code",
   "execution_count": 35,
   "id": "ee3dd951",
   "metadata": {},
   "outputs": [
    {
     "data": {
      "text/plain": [
       "4"
      ]
     },
     "execution_count": 35,
     "metadata": {},
     "output_type": "execute_result"
    }
   ],
   "source": [
    "find_square_root(16)"
   ]
  },
  {
   "cell_type": "code",
   "execution_count": 37,
   "id": "32831e93",
   "metadata": {},
   "outputs": [
    {
     "data": {
      "text/plain": [
       "5"
      ]
     },
     "execution_count": 37,
     "metadata": {},
     "output_type": "execute_result"
    }
   ],
   "source": [
    "find_square_root(25)"
   ]
  },
  {
   "cell_type": "code",
   "execution_count": 40,
   "id": "d44647cd",
   "metadata": {},
   "outputs": [
    {
     "data": {
      "text/plain": [
       "11"
      ]
     },
     "execution_count": 40,
     "metadata": {},
     "output_type": "execute_result"
    }
   ],
   "source": [
    "find_square_root(121)"
   ]
  },
  {
   "cell_type": "code",
   "execution_count": 41,
   "id": "8a4a0331",
   "metadata": {},
   "outputs": [
    {
     "data": {
      "text/plain": [
       "15"
      ]
     },
     "execution_count": 41,
     "metadata": {},
     "output_type": "execute_result"
    }
   ],
   "source": [
    "find_square_root(225)"
   ]
  },
  {
   "cell_type": "markdown",
   "id": "a72a1280",
   "metadata": {},
   "source": [
    "# 3. Write a Python program to check a sequence of numbers is a geometric progression or not. \n",
    "Input : [2, 6, 18, 54]\n",
    "Output : True"
   ]
  },
  {
   "cell_type": "code",
   "execution_count": 3,
   "id": "2cfbb29d",
   "metadata": {},
   "outputs": [],
   "source": [
    "'''geometric sequence, is a sequence of non-zero numbers where each term after \n",
    "the first is found by multiplying the previous one by a fixed, non-zero number \n",
    "called the common ratio.'''\n",
    "def check_geometric_progression(num_list):\n",
    "    ratio = []\n",
    "    for i in range(1, len(num_list)):\n",
    "        ratio.append(num_list[i]/num_list[(i-1)])\n",
    "    print(ratio)   \n",
    "    if len(set(ratio)) == 1:\n",
    "        return True\n",
    "    else:\n",
    "        return False"
   ]
  },
  {
   "cell_type": "code",
   "execution_count": 6,
   "id": "a9f620e9",
   "metadata": {},
   "outputs": [],
   "source": [
    "inp = [2, 6, 18, 54]"
   ]
  },
  {
   "cell_type": "code",
   "execution_count": 7,
   "id": "10efba92",
   "metadata": {},
   "outputs": [
    {
     "name": "stdout",
     "output_type": "stream",
     "text": [
      "[3.0, 3.0, 3.0]\n"
     ]
    },
    {
     "data": {
      "text/plain": [
       "True"
      ]
     },
     "execution_count": 7,
     "metadata": {},
     "output_type": "execute_result"
    }
   ],
   "source": [
    "check_geometric_progression(inp)"
   ]
  },
  {
   "cell_type": "code",
   "execution_count": 61,
   "id": "7e08f70b",
   "metadata": {},
   "outputs": [],
   "source": [
    "inp2= [10, 5, 2.5, 1.25]"
   ]
  },
  {
   "cell_type": "code",
   "execution_count": 62,
   "id": "a31fa665",
   "metadata": {},
   "outputs": [
    {
     "name": "stdout",
     "output_type": "stream",
     "text": [
      "[0.5, 0.5, 0.5]\n"
     ]
    },
    {
     "data": {
      "text/plain": [
       "True"
      ]
     },
     "execution_count": 62,
     "metadata": {},
     "output_type": "execute_result"
    }
   ],
   "source": [
    "check_geometric_progression(inp2)"
   ]
  },
  {
   "cell_type": "code",
   "execution_count": 63,
   "id": "6e03dccf",
   "metadata": {},
   "outputs": [
    {
     "name": "stdout",
     "output_type": "stream",
     "text": [
      "[2.0, 2.0, 2.0]\n"
     ]
    },
    {
     "data": {
      "text/plain": [
       "True"
      ]
     },
     "execution_count": 63,
     "metadata": {},
     "output_type": "execute_result"
    }
   ],
   "source": [
    "inp3 = [1,2,4,8]\n",
    "check_geometric_progression(inp3)"
   ]
  },
  {
   "cell_type": "code",
   "execution_count": 64,
   "id": "5ba28d99",
   "metadata": {},
   "outputs": [
    {
     "name": "stdout",
     "output_type": "stream",
     "text": [
      "[2.0, 2.5, 0.8, 2.0]\n"
     ]
    },
    {
     "data": {
      "text/plain": [
       "False"
      ]
     },
     "execution_count": 64,
     "metadata": {},
     "output_type": "execute_result"
    }
   ],
   "source": [
    "inp3 = [1,2,5,4,8]\n",
    "check_geometric_progression(inp3)"
   ]
  },
  {
   "cell_type": "code",
   "execution_count": null,
   "id": "6d71b21f",
   "metadata": {},
   "outputs": [],
   "source": []
  }
 ],
 "metadata": {
  "kernelspec": {
   "display_name": "Python 3 (ipykernel)",
   "language": "python",
   "name": "python3"
  },
  "language_info": {
   "codemirror_mode": {
    "name": "ipython",
    "version": 3
   },
   "file_extension": ".py",
   "mimetype": "text/x-python",
   "name": "python",
   "nbconvert_exporter": "python",
   "pygments_lexer": "ipython3",
   "version": "3.9.12"
  }
 },
 "nbformat": 4,
 "nbformat_minor": 5
}
